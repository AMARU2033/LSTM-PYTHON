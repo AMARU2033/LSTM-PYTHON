{
 "cells": [
  {
   "cell_type": "code",
   "execution_count": 3,
   "metadata": {
    "collapsed": false
   },
   "outputs": [],
   "source": [
    "import numpy as np\n",
    "import theano as theano\n",
    "import theano.tensor as T\n",
    "import time\n",
    "import operator\n",
    "from utils import load_data, load_model_parameters_theano, generate_sentences\n",
    "from gru_theano import *\n",
    "import sys"
   ]
  },
  {
   "cell_type": "code",
   "execution_count": 4,
   "metadata": {
    "collapsed": false
   },
   "outputs": [
    {
     "name": "stdout",
     "output_type": "stream",
     "text": [
      "Reading CSV file...\n",
      "Parsed 502183 sentences.\n",
      "Found 193212 unique words tokens.\n",
      "Using vocabulary size 8000.\n",
      "The least frequent word in our vocabulary is 'playlist' and appeared 52 times.\n"
     ]
    }
   ],
   "source": [
    "# Load data (this may take a few minutes)\n",
    "VOCABULARY_SIZE = 8000\n",
    "X_train, y_train, word_to_index, index_to_word = load_data(\"data/reddit-comments-2015.csv\", VOCABULARY_SIZE)"
   ]
  },
  {
   "cell_type": "code",
   "execution_count": 5,
   "metadata": {
    "collapsed": false
   },
   "outputs": [
    {
     "name": "stdout",
     "output_type": "stream",
     "text": [
      "Building model model from ./data/pretrained.npz with hidden_dim=128 word_dim=8000\n"
     ]
    },
    {
     "name": "stderr",
     "output_type": "stream",
     "text": [
      "/Users/dennybritz/projects/wildml/rnn-tutorial-lstm/venv/lib/python2.7/site-packages/theano/scan_module/scan_perform_ext.py:133: RuntimeWarning: numpy.ndarray size changed, may indicate binary incompatibility\n",
      "  from scan_perform.scan_perform import *\n"
     ]
    }
   ],
   "source": [
    "# Load parameters of pre-trained model\n",
    "model = load_model_parameters_theano('./data/pretrained.npz')"
   ]
  },
  {
   "cell_type": "code",
   "execution_count": 2,
   "metadata": {
    "collapsed": false
   },
   "outputs": [],
   "source": [
    "# Build your own model (not recommended unless you have a lot of time!)\n",
    "\n",
    "# LEARNING_RATE = 1e-3\n",
    "# NEPOCH = 20\n",
    "# HIDDEN_DIM = 128\n",
    "\n",
    "# model = GRUTheano(VOCABULARY_SIZE, HIDDEN_DIM)\n",
    "\n",
    "# t1 = time.time()\n",
    "# model.sgd_step(X_train[0], y_train[0], LEARNING_RATE)\n",
    "# t2 = time.time()\n",
    "# print \"SGD Step time: ~%f milliseconds\" % ((t2 - t1) * 1000.)\n",
    "\n",
    "# train_with_sgd(model, X_train, y_train, LEARNING_RATE, NEPOCH, decay=0.9)"
   ]
  },
  {
   "cell_type": "code",
   "execution_count": 13,
   "metadata": {
    "collapsed": false
   },
   "outputs": [
    {
     "name": "stdout",
     "output_type": "stream",
     "text": [
      "sadly this post has made it answered .\n",
      "there 's no reason left any that briefly shorter .\n",
      "it 's just crap , existence is pretty good .\n",
      "comfy realizing i know this on kicking office 's nicely .\n",
      "good luck : )\n",
      "we 're ourselves people also try to cry .\n",
      "bass threads were so strong and aspects of where i 'm working .\n",
      "he listening to the house instead of skipping jewish .\n",
      "showed me a number of expression of his best counting .\n",
      "it 's not 75 % of the time .\n",
      "as no problem is n't sea , you can also rent reference .\n",
      "i 'm in the past , with food for people who had short blown .\n",
      "and if you average does a peak is n't able to put avoiding wide .\n",
      "you changed through shy after memes .\n",
      "but should never have a development source of it lol .\n",
      "like this someone yeah , no .\n",
      "thanks for my understanding .\n",
      "my point is it , but i refer to up that .\n",
      "if you 're not gon na into this you get pattern !\n",
      "everything is controller as well ...\n",
      "i mute them .\n",
      "besides i do this as shit .\n",
      "so much more about him .\n",
      "i never go long if i need to pad your school at this density .\n",
      "if supports offers the beginner , one lvl approved extent you .\n",
      "`` good test .\n",
      "i often want to use a blue where keeps first .\n",
      "so you middle order physically though .\n",
      "i ca n't post them in the article as well as controlling .\n",
      "i have n't had the comeback his e uniform .\n",
      "thanks for the video on the level bot .\n",
      "this thought this problem is much the measurements of game powers .\n",
      "i have a french win .\n",
      "i call my prominent korean realizing most of the time it 's dead .\n",
      "watch with my healing and now you are react to some psychology\n",
      "about calling it corners ?\n",
      "we work every legal as some medical flair .\n",
      "*i am a bot , and this action was performed automatically .\n",
      "there is lots of people to this show .\n",
      "no online .\n",
      "i mean i are wasting time to president 's thinking .\n",
      "shame out .\n",
      "how do you paragraph their norm .\n",
      "taylor is going to get banned .\n",
      "thanks for the spoiler : )\n",
      "i wan na see him , it 's a energy inside .\n",
      "this things are quiet !\n",
      "but to live that he 's pointed out\n",
      "the trash .\n",
      "robin scream lead very 토렌트 .\n",
      "constructive professor void vice , shame .\n",
      "i 200 at the insult .\n",
      "remember with this ?\n",
      "aa optimistic .\n",
      "the kids were hardest though he has n't gender there .\n",
      "matched roaming will do positive research machine from meat dies .\n",
      "i thought he might typed developing at studying melt sword crazy out names .\n",
      "how was the point thing as legal enough ?\n",
      "it torrent make nothing high very carbon !\n",
      "it sounds like me right now .\n",
      "i ended up rock ( 23 and this . )\n",
      "pricey story .\n",
      "in the last amendment i guess .\n",
      "than he 's screwing .\n",
      "if honesty goes through anything i 'm new for what you are asking .\n",
      "and would love to make your own desirable bet .\n",
      "start virgin .\n",
      "if it is n't going to diablo 50 .\n",
      "they made it about 3a % .\n",
      "it 's not a little get ink url despite confusing\n",
      "areas it is really rare .\n",
      "ah i denied it .\n",
      "`` all sweat of runescape .\n",
      "it 's not uploaded to his let much recommend the unit .\n",
      "- & gt ; should not be treated by preferences ?\n",
      "what 's css like this ?\n",
      "you should be fine if you can .\n",
      "and granted .\n",
      "take a win every bro .\n",
      "but he 's just fucking what emergency 's needed for the extra google .\n",
      "the problem will then topic the screen .\n",
      "just wait , directly from india , ?\n",
      "if the cognitive medicine are the regulations poland last season .\n",
      "educated reddit .\n",
      "we were implying at all .\n",
      "this is damned i paid my nicht fat .\n",
      "& gt ; do n't have entry .\n",
      "most be gb if them get involved .\n",
      "if i did n't understand what it was dutch , at who .\n",
      "also definitely get rifle teachers next year .\n",
      "or not , you can pull 3 or two , generally .\n",
      "the point says she 's talking about the point .\n",
      "everyone feels like a sure you completely struggled for voting food .\n",
      "i have a grown и with med .\n",
      "volume 20 animals and hardware will get worse .\n",
      "but he 's happy to be really die .\n",
      "slaves and into it .\n",
      "here 's some tips you also walk out of the video .\n",
      "if someone comes from results ?\n",
      "what do you think future remote can go into\n"
     ]
    }
   ],
   "source": [
    "generate_sentences(model, 100, index_to_word, word_to_index)"
   ]
  },
  {
   "cell_type": "code",
   "execution_count": null,
   "metadata": {
    "collapsed": true
   },
   "outputs": [],
   "source": []
  }
 ],
 "metadata": {
  "kernelspec": {
   "display_name": "Python 2",
   "language": "python",
   "name": "python2"
  },
  "language_info": {
   "codemirror_mode": {
    "name": "ipython",
    "version": 2
   },
   "file_extension": ".py",
   "mimetype": "text/x-python",
   "name": "python",
   "nbconvert_exporter": "python",
   "pygments_lexer": "ipython2",
   "version": "2.7.10"
  }
 },
 "nbformat": 4,
 "nbformat_minor": 0
}
